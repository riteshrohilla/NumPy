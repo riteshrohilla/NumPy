{
 "cells": [
  {
   "cell_type": "markdown",
   "id": "2a263083-dfa7-4552-ab46-dc83b7d86a41",
   "metadata": {},
   "source": [
    "### NumPy tutorial freecodecamp"
   ]
  },
  {
   "cell_type": "code",
   "execution_count": 1,
   "id": "e240047d-5300-4fac-9a75-bba1458a0fa5",
   "metadata": {},
   "outputs": [],
   "source": [
    "import numpy as np"
   ]
  },
  {
   "cell_type": "code",
   "execution_count": 4,
   "id": "11680f1b-9cb6-4550-b887-8f54f97a1ed2",
   "metadata": {},
   "outputs": [],
   "source": [
    "#The Basics"
   ]
  },
  {
   "cell_type": "code",
   "execution_count": 24,
   "id": "401aefda-d1fa-4574-ad81-7fc380359869",
   "metadata": {},
   "outputs": [],
   "source": [
    "a = np.array([1, 2, 3], dtype='int32') #we can specify which dtype we want"
   ]
  },
  {
   "cell_type": "code",
   "execution_count": 6,
   "id": "1aae695c-285a-4431-ab60-612eaa519987",
   "metadata": {},
   "outputs": [
    {
     "data": {
      "text/plain": [
       "array([1, 2, 3])"
      ]
     },
     "execution_count": 6,
     "metadata": {},
     "output_type": "execute_result"
    }
   ],
   "source": [
    "a"
   ]
  },
  {
   "cell_type": "code",
   "execution_count": 8,
   "id": "dea8543f-5bc1-4a75-9571-66ca6cc053d9",
   "metadata": {},
   "outputs": [],
   "source": [
    "b = np.array([[4.0, 5.0, 6.0], [7.0, 8.0, 9.0]])"
   ]
  },
  {
   "cell_type": "code",
   "execution_count": 9,
   "id": "fd7ec471-cb64-4fab-923c-da1c29571ad2",
   "metadata": {},
   "outputs": [
    {
     "data": {
      "text/plain": [
       "array([[4., 5., 6.],\n",
       "       [7., 8., 9.]])"
      ]
     },
     "execution_count": 9,
     "metadata": {},
     "output_type": "execute_result"
    }
   ],
   "source": [
    "b"
   ]
  },
  {
   "cell_type": "code",
   "execution_count": 10,
   "id": "f026567b-8eaf-473b-b794-6d524b4cac35",
   "metadata": {},
   "outputs": [],
   "source": [
    "#Get Dimension"
   ]
  },
  {
   "cell_type": "code",
   "execution_count": 11,
   "id": "d9144b5c-e062-44eb-b971-630a497c95ab",
   "metadata": {},
   "outputs": [
    {
     "data": {
      "text/plain": [
       "1"
      ]
     },
     "execution_count": 11,
     "metadata": {},
     "output_type": "execute_result"
    }
   ],
   "source": [
    "a.ndim"
   ]
  },
  {
   "cell_type": "code",
   "execution_count": 12,
   "id": "bb41b7b1-486e-44db-a120-3ed124b67990",
   "metadata": {},
   "outputs": [
    {
     "data": {
      "text/plain": [
       "2"
      ]
     },
     "execution_count": 12,
     "metadata": {},
     "output_type": "execute_result"
    }
   ],
   "source": [
    "b.ndim"
   ]
  },
  {
   "cell_type": "code",
   "execution_count": 13,
   "id": "53b20c65-bfdb-4cfe-8658-22b7cf3b8d22",
   "metadata": {},
   "outputs": [],
   "source": [
    "#Get Shape"
   ]
  },
  {
   "cell_type": "code",
   "execution_count": 14,
   "id": "4bf733a7-ffa8-4128-9de7-524ef0544da2",
   "metadata": {},
   "outputs": [
    {
     "data": {
      "text/plain": [
       "(3,)"
      ]
     },
     "execution_count": 14,
     "metadata": {},
     "output_type": "execute_result"
    }
   ],
   "source": [
    "a.shape"
   ]
  },
  {
   "cell_type": "code",
   "execution_count": 15,
   "id": "8a9cdacb-3f94-4812-84c6-b81d98bddc37",
   "metadata": {},
   "outputs": [
    {
     "data": {
      "text/plain": [
       "(2, 3)"
      ]
     },
     "execution_count": 15,
     "metadata": {},
     "output_type": "execute_result"
    }
   ],
   "source": [
    "b.shape"
   ]
  },
  {
   "cell_type": "code",
   "execution_count": 16,
   "id": "76f6d893-0a5d-4241-8a17-c26b3a6c290d",
   "metadata": {},
   "outputs": [],
   "source": [
    "#Get data type"
   ]
  },
  {
   "cell_type": "code",
   "execution_count": 20,
   "id": "a7198b57-375f-442a-a290-423ec8c17092",
   "metadata": {},
   "outputs": [
    {
     "data": {
      "text/plain": [
       "dtype('int16')"
      ]
     },
     "execution_count": 20,
     "metadata": {},
     "output_type": "execute_result"
    }
   ],
   "source": [
    "a.dtype"
   ]
  },
  {
   "cell_type": "code",
   "execution_count": 18,
   "id": "ab1b693e-eeb8-4c7a-bc91-ab7202331295",
   "metadata": {},
   "outputs": [
    {
     "data": {
      "text/plain": [
       "dtype('float64')"
      ]
     },
     "execution_count": 18,
     "metadata": {},
     "output_type": "execute_result"
    }
   ],
   "source": [
    "b.dtype"
   ]
  },
  {
   "cell_type": "code",
   "execution_count": 21,
   "id": "56fa2762-f83a-4d02-ac82-e305fa7e6677",
   "metadata": {},
   "outputs": [],
   "source": [
    "# Get size"
   ]
  },
  {
   "cell_type": "code",
   "execution_count": 25,
   "id": "3b9ebb7d-6416-4ed5-bde6-56ac6ab60438",
   "metadata": {},
   "outputs": [
    {
     "data": {
      "text/plain": [
       "4"
      ]
     },
     "execution_count": 25,
     "metadata": {},
     "output_type": "execute_result"
    }
   ],
   "source": [
    "a.itemsize"
   ]
  },
  {
   "cell_type": "code",
   "execution_count": 23,
   "id": "d3f9b128-13c7-49cf-b7ba-1ea21f1c4be0",
   "metadata": {},
   "outputs": [
    {
     "data": {
      "text/plain": [
       "8"
      ]
     },
     "execution_count": 23,
     "metadata": {},
     "output_type": "execute_result"
    }
   ],
   "source": [
    "b.itemsize"
   ]
  },
  {
   "cell_type": "code",
   "execution_count": 26,
   "id": "22a0ffd1-160b-4a97-8bc1-3f088f2544fc",
   "metadata": {},
   "outputs": [],
   "source": [
    "# Get size"
   ]
  },
  {
   "cell_type": "code",
   "execution_count": 27,
   "id": "388d7557-9b60-43ed-85d6-99ecf7f593d0",
   "metadata": {},
   "outputs": [
    {
     "data": {
      "text/plain": [
       "3"
      ]
     },
     "execution_count": 27,
     "metadata": {},
     "output_type": "execute_result"
    }
   ],
   "source": [
    "a.size"
   ]
  },
  {
   "cell_type": "code",
   "execution_count": 28,
   "id": "37a678fd-18c0-49d0-93c1-ab566c193f2a",
   "metadata": {},
   "outputs": [
    {
     "data": {
      "text/plain": [
       "6"
      ]
     },
     "execution_count": 28,
     "metadata": {},
     "output_type": "execute_result"
    }
   ],
   "source": [
    "b.size"
   ]
  },
  {
   "cell_type": "code",
   "execution_count": 29,
   "id": "5684d0b7-0346-4ba6-b2dd-47f311bf8bf2",
   "metadata": {},
   "outputs": [],
   "source": [
    "# Get total size"
   ]
  },
  {
   "cell_type": "code",
   "execution_count": 31,
   "id": "7e419c1b-4d13-4c45-93ec-0cc899fe7231",
   "metadata": {},
   "outputs": [
    {
     "data": {
      "text/plain": [
       "12"
      ]
     },
     "execution_count": 31,
     "metadata": {},
     "output_type": "execute_result"
    }
   ],
   "source": [
    "a.size * a.itemsize"
   ]
  },
  {
   "cell_type": "code",
   "execution_count": 32,
   "id": "87dfca7b-79e2-447d-b90c-6a382b4e414d",
   "metadata": {},
   "outputs": [
    {
     "data": {
      "text/plain": [
       "48"
      ]
     },
     "execution_count": 32,
     "metadata": {},
     "output_type": "execute_result"
    }
   ],
   "source": [
    "b.size * b.itemsize"
   ]
  },
  {
   "cell_type": "code",
   "execution_count": 33,
   "id": "5882e8ed-b73e-4c38-8615-35064797c7af",
   "metadata": {},
   "outputs": [
    {
     "data": {
      "text/plain": [
       "12"
      ]
     },
     "execution_count": 33,
     "metadata": {},
     "output_type": "execute_result"
    }
   ],
   "source": [
    "a.nbytes"
   ]
  },
  {
   "cell_type": "code",
   "execution_count": 34,
   "id": "840833f6-bca9-4e8a-bb54-d434554eb2ae",
   "metadata": {},
   "outputs": [
    {
     "data": {
      "text/plain": [
       "48"
      ]
     },
     "execution_count": 34,
     "metadata": {},
     "output_type": "execute_result"
    }
   ],
   "source": [
    "b.nbytes"
   ]
  },
  {
   "cell_type": "markdown",
   "id": "f1db9d66-894b-4ea4-9158-aa2eae95e2af",
   "metadata": {},
   "source": [
    "### Accessing/Changing specific elements, rows, columns, etc"
   ]
  },
  {
   "cell_type": "code",
   "execution_count": 35,
   "id": "a79ecab9-9568-469c-960b-a2c4b39e3a43",
   "metadata": {},
   "outputs": [],
   "source": [
    "a = np.array([[1, 2, 3, 4, 5, 6, 7], [8, 9, 10, 11, 12, 13, 14]])"
   ]
  },
  {
   "cell_type": "code",
   "execution_count": 36,
   "id": "0f1ba11f-6ca0-406f-9957-b93777921912",
   "metadata": {},
   "outputs": [
    {
     "data": {
      "text/plain": [
       "array([[ 1,  2,  3,  4,  5,  6,  7],\n",
       "       [ 8,  9, 10, 11, 12, 13, 14]])"
      ]
     },
     "execution_count": 36,
     "metadata": {},
     "output_type": "execute_result"
    }
   ],
   "source": [
    "a"
   ]
  },
  {
   "cell_type": "code",
   "execution_count": 37,
   "id": "aee5e55d-ba11-47f7-9fa9-fb643317cd98",
   "metadata": {},
   "outputs": [
    {
     "data": {
      "text/plain": [
       "(2, 7)"
      ]
     },
     "execution_count": 37,
     "metadata": {},
     "output_type": "execute_result"
    }
   ],
   "source": [
    "a.shape"
   ]
  },
  {
   "cell_type": "code",
   "execution_count": 38,
   "id": "13981220-730d-41cf-9658-7f9916a71373",
   "metadata": {},
   "outputs": [
    {
     "data": {
      "text/plain": [
       "6"
      ]
     },
     "execution_count": 38,
     "metadata": {},
     "output_type": "execute_result"
    }
   ],
   "source": [
    "# Get a specific element [r, c]\n",
    "a[0, 5]"
   ]
  },
  {
   "cell_type": "code",
   "execution_count": 39,
   "id": "6c43ebc6-03a1-4e25-8757-977def8e5d9f",
   "metadata": {},
   "outputs": [
    {
     "data": {
      "text/plain": [
       "array([1, 2, 3, 4, 5, 6, 7])"
      ]
     },
     "execution_count": 39,
     "metadata": {},
     "output_type": "execute_result"
    }
   ],
   "source": [
    "# Get a specific row\n",
    "a[0, :]"
   ]
  },
  {
   "cell_type": "code",
   "execution_count": 40,
   "id": "09c63672-e24c-4eaf-949e-541672dc6a4a",
   "metadata": {},
   "outputs": [],
   "source": [
    "# Get a specific column"
   ]
  },
  {
   "cell_type": "code",
   "execution_count": 41,
   "id": "c9f147ff-1d35-43f4-91f1-d05bc956868e",
   "metadata": {},
   "outputs": [
    {
     "data": {
      "text/plain": [
       "array([2, 9])"
      ]
     },
     "execution_count": 41,
     "metadata": {},
     "output_type": "execute_result"
    }
   ],
   "source": [
    "a[ :, 1]"
   ]
  },
  {
   "cell_type": "code",
   "execution_count": 42,
   "id": "f7afcea0-398f-4e12-a957-8630b102abf9",
   "metadata": {},
   "outputs": [],
   "source": [
    "# Getting a little more fancy [startindex: endindex : stepsize]"
   ]
  },
  {
   "cell_type": "code",
   "execution_count": 43,
   "id": "b7bb0f3f-7bb2-4f4b-9f39-fd815f74bda3",
   "metadata": {},
   "outputs": [
    {
     "data": {
      "text/plain": [
       "array([2, 4, 6])"
      ]
     },
     "execution_count": 43,
     "metadata": {},
     "output_type": "execute_result"
    }
   ],
   "source": [
    "a[0, 1:6:2]"
   ]
  },
  {
   "cell_type": "code",
   "execution_count": 44,
   "id": "c5b23c3d-7689-4cea-af0f-b0fee4e43b60",
   "metadata": {},
   "outputs": [],
   "source": [
    "a[1, 5] = 20"
   ]
  },
  {
   "cell_type": "code",
   "execution_count": 45,
   "id": "fd428978-6234-4779-b441-93ba3ebd51ab",
   "metadata": {},
   "outputs": [
    {
     "data": {
      "text/plain": [
       "array([[ 1,  2,  3,  4,  5,  6,  7],\n",
       "       [ 8,  9, 10, 11, 12, 20, 14]])"
      ]
     },
     "execution_count": 45,
     "metadata": {},
     "output_type": "execute_result"
    }
   ],
   "source": [
    "a"
   ]
  },
  {
   "cell_type": "code",
   "execution_count": 46,
   "id": "2727c6e5-688f-4111-ad80-31e278183ace",
   "metadata": {},
   "outputs": [
    {
     "data": {
      "text/plain": [
       "20"
      ]
     },
     "execution_count": 46,
     "metadata": {},
     "output_type": "execute_result"
    }
   ],
   "source": [
    "a[1, 5]"
   ]
  },
  {
   "cell_type": "code",
   "execution_count": 47,
   "id": "15211ef5-bc29-4b7d-b0d5-43b5659131a9",
   "metadata": {},
   "outputs": [
    {
     "name": "stdout",
     "output_type": "stream",
     "text": [
      "[[ 1  2  1  4  5  6  7]\n",
      " [ 8  9  2 11 12 20 14]]\n"
     ]
    }
   ],
   "source": [
    "a[:,2] = [1, 2]\n",
    "print(a)"
   ]
  },
  {
   "cell_type": "markdown",
   "id": "b4ef6028-f6d6-42f9-99de-43fda16de500",
   "metadata": {},
   "source": [
    "### 3D example"
   ]
  },
  {
   "cell_type": "code",
   "execution_count": 48,
   "id": "d3c12e2c-b226-4224-8542-7c37826de47e",
   "metadata": {},
   "outputs": [
    {
     "name": "stdout",
     "output_type": "stream",
     "text": [
      "[[[1 2]\n",
      "  [3 4]]\n",
      "\n",
      " [[5 6]\n",
      "  [7 8]]]\n"
     ]
    }
   ],
   "source": [
    "b = np.array([[[1, 2], [3, 4]], [[5, 6], [7, 8]]])\n",
    "print(b)"
   ]
  },
  {
   "cell_type": "code",
   "execution_count": 49,
   "id": "06723670-9608-457d-a92a-edc8ad6ba3fa",
   "metadata": {},
   "outputs": [],
   "source": [
    "#Get specific element (work outside in)"
   ]
  },
  {
   "cell_type": "code",
   "execution_count": 50,
   "id": "828f93c6-3187-4262-bc9c-7ecad6c2c1a4",
   "metadata": {},
   "outputs": [
    {
     "data": {
      "text/plain": [
       "4"
      ]
     },
     "execution_count": 50,
     "metadata": {},
     "output_type": "execute_result"
    }
   ],
   "source": [
    "b[0,1,1]"
   ]
  },
  {
   "cell_type": "code",
   "execution_count": 51,
   "id": "edbd2e81-e7cd-4c5a-82ee-a858f1f15560",
   "metadata": {},
   "outputs": [
    {
     "data": {
      "text/plain": [
       "array([[3, 4],\n",
       "       [7, 8]])"
      ]
     },
     "execution_count": 51,
     "metadata": {},
     "output_type": "execute_result"
    }
   ],
   "source": [
    "b[:,1,:]"
   ]
  },
  {
   "cell_type": "code",
   "execution_count": 52,
   "id": "ac2e618d-c20a-4ada-8e58-54265bd6d169",
   "metadata": {},
   "outputs": [],
   "source": [
    "# replace"
   ]
  },
  {
   "cell_type": "code",
   "execution_count": 53,
   "id": "4810062c-0a25-41c8-bf76-e169cb91c361",
   "metadata": {},
   "outputs": [],
   "source": [
    "b[:,1,:] = [[9,9], [8,8]]"
   ]
  },
  {
   "cell_type": "code",
   "execution_count": 54,
   "id": "9568dc7c-ffdf-45ba-aaa4-ba79581749fc",
   "metadata": {},
   "outputs": [
    {
     "data": {
      "text/plain": [
       "array([[[1, 2],\n",
       "        [9, 9]],\n",
       "\n",
       "       [[5, 6],\n",
       "        [8, 8]]])"
      ]
     },
     "execution_count": 54,
     "metadata": {},
     "output_type": "execute_result"
    }
   ],
   "source": [
    "b"
   ]
  },
  {
   "cell_type": "markdown",
   "id": "faabc28a-0076-4c6f-82b5-7ffcea8153da",
   "metadata": {},
   "source": [
    "### Initializing different types of arrays"
   ]
  },
  {
   "cell_type": "code",
   "execution_count": 55,
   "id": "c068421e-d5b8-4569-8f99-fe5826212aaa",
   "metadata": {},
   "outputs": [],
   "source": [
    "#all 0s matrix"
   ]
  },
  {
   "cell_type": "code",
   "execution_count": 59,
   "id": "284edd65-f027-48b5-97f6-6335b7e2b5a0",
   "metadata": {},
   "outputs": [
    {
     "data": {
      "text/plain": [
       "array([[0., 0., 0.],\n",
       "       [0., 0., 0.]])"
      ]
     },
     "execution_count": 59,
     "metadata": {},
     "output_type": "execute_result"
    }
   ],
   "source": [
    "np.zeros((2,3))"
   ]
  },
  {
   "cell_type": "code",
   "execution_count": 61,
   "id": "7a3bcc65-ed4a-4315-8116-e1609901244d",
   "metadata": {},
   "outputs": [
    {
     "data": {
      "text/plain": [
       "array([[[1, 1],\n",
       "        [1, 1]],\n",
       "\n",
       "       [[1, 1],\n",
       "        [1, 1]],\n",
       "\n",
       "       [[1, 1],\n",
       "        [1, 1]],\n",
       "\n",
       "       [[1, 1],\n",
       "        [1, 1]]], dtype=int32)"
      ]
     },
     "execution_count": 61,
     "metadata": {},
     "output_type": "execute_result"
    }
   ],
   "source": [
    "# All 1s matrix\n",
    "np.ones((4, 2, 2), dtype='int32')"
   ]
  },
  {
   "cell_type": "code",
   "execution_count": 66,
   "id": "7e842230-a5d1-4238-9681-f96d73842569",
   "metadata": {},
   "outputs": [
    {
     "data": {
      "text/plain": [
       "array([[99, 99],\n",
       "       [99, 99]])"
      ]
     },
     "execution_count": 66,
     "metadata": {},
     "output_type": "execute_result"
    }
   ],
   "source": [
    "# Any other number\n",
    "np.full((2, 2), 99)"
   ]
  },
  {
   "cell_type": "code",
   "execution_count": 68,
   "id": "bbf3c12b-59ec-4211-9dba-905f0dfceea6",
   "metadata": {},
   "outputs": [
    {
     "data": {
      "text/plain": [
       "array([[4, 4, 4, 4, 4, 4, 4],\n",
       "       [4, 4, 4, 4, 4, 4, 4]])"
      ]
     },
     "execution_count": 68,
     "metadata": {},
     "output_type": "execute_result"
    }
   ],
   "source": [
    "# Any other number (full_like)\n",
    "np.full_like(a, 4)"
   ]
  },
  {
   "cell_type": "code",
   "execution_count": 69,
   "id": "5363fb6f-ad41-429b-894a-9d650940cf9e",
   "metadata": {},
   "outputs": [
    {
     "data": {
      "text/plain": [
       "array([[4, 4, 4, 4, 4, 4, 4],\n",
       "       [4, 4, 4, 4, 4, 4, 4]])"
      ]
     },
     "execution_count": 69,
     "metadata": {},
     "output_type": "execute_result"
    }
   ],
   "source": [
    "np.full(a.shape, 4)"
   ]
  },
  {
   "cell_type": "code",
   "execution_count": 70,
   "id": "919126e5-2809-4522-9d0c-c648c64dce38",
   "metadata": {},
   "outputs": [
    {
     "data": {
      "text/plain": [
       "array([[0.37063495, 0.98511681],\n",
       "       [0.04376011, 0.71713505],\n",
       "       [0.81197419, 0.5457993 ],\n",
       "       [0.04032265, 0.3527451 ]])"
      ]
     },
     "execution_count": 70,
     "metadata": {},
     "output_type": "execute_result"
    }
   ],
   "source": [
    "# Random decimal numbers\n",
    "np.random.rand(4, 2)"
   ]
  },
  {
   "cell_type": "code",
   "execution_count": 71,
   "id": "eab4ced4-d304-427b-a116-72ca3721d812",
   "metadata": {},
   "outputs": [
    {
     "data": {
      "text/plain": [
       "array([[0.49315951, 0.4018805 , 0.1359481 , 0.40182515, 0.98440234,\n",
       "        0.14251325, 0.43983579],\n",
       "       [0.72162215, 0.14569436, 0.45769026, 0.85388836, 0.59794269,\n",
       "        0.84771504, 0.75987887]])"
      ]
     },
     "execution_count": 71,
     "metadata": {},
     "output_type": "execute_result"
    }
   ],
   "source": [
    "np.random.random_sample(a.shape)"
   ]
  },
  {
   "cell_type": "code",
   "execution_count": 77,
   "id": "10baea6c-f56c-4f32-97cf-cc831fb9b8a9",
   "metadata": {},
   "outputs": [
    {
     "data": {
      "text/plain": [
       "array([[8, 5, 5],\n",
       "       [6, 6, 8],\n",
       "       [4, 5, 4]])"
      ]
     },
     "execution_count": 77,
     "metadata": {},
     "output_type": "execute_result"
    }
   ],
   "source": [
    "# Random Integer values\n",
    "np.random.randint(4, 9, size=(3, 3))"
   ]
  },
  {
   "cell_type": "code",
   "execution_count": 79,
   "id": "78dd50cc-9f02-4595-9542-fc3d1af84269",
   "metadata": {},
   "outputs": [
    {
     "data": {
      "text/plain": [
       "array([[1., 0., 0.],\n",
       "       [0., 1., 0.],\n",
       "       [0., 0., 1.]])"
      ]
     },
     "execution_count": 79,
     "metadata": {},
     "output_type": "execute_result"
    }
   ],
   "source": [
    "# The identity matrix\n",
    "np.identity(3)"
   ]
  },
  {
   "cell_type": "code",
   "execution_count": 88,
   "id": "2ce93d88-a4f5-41be-bdcd-291ab8bc3f8d",
   "metadata": {},
   "outputs": [
    {
     "name": "stdout",
     "output_type": "stream",
     "text": [
      "[[1 2 3]\n",
      " [1 2 3]\n",
      " [1 2 3]]\n"
     ]
    }
   ],
   "source": [
    "# Repeat an array\n",
    "arr = np.array([[1, 2, 3]])\n",
    "r1 = np.repeat(arr, 3, axis=0)\n",
    "print(r1)"
   ]
  },
  {
   "cell_type": "code",
   "execution_count": 93,
   "id": "b10564db-7c9f-4000-920d-5928eeee8eb9",
   "metadata": {},
   "outputs": [
    {
     "name": "stdout",
     "output_type": "stream",
     "text": [
      "[[1. 1. 1. 1. 1.]\n",
      " [1. 1. 1. 1. 1.]\n",
      " [1. 1. 1. 1. 1.]\n",
      " [1. 1. 1. 1. 1.]\n",
      " [1. 1. 1. 1. 1.]]\n",
      "[[0. 0. 0.]\n",
      " [0. 9. 0.]\n",
      " [0. 0. 0.]]\n",
      "[[1. 1. 1. 1. 1.]\n",
      " [1. 0. 0. 0. 1.]\n",
      " [1. 0. 9. 0. 1.]\n",
      " [1. 0. 0. 0. 1.]\n",
      " [1. 1. 1. 1. 1.]]\n"
     ]
    }
   ],
   "source": [
    "output = np.ones([5, 5])\n",
    "print(output)\n",
    "\n",
    "z = np.zeros([3,3])\n",
    "z[1, 1] = 9\n",
    "print(z)\n",
    "\n",
    "output[1:4, 1:4] = z\n",
    "print(output)"
   ]
  },
  {
   "cell_type": "markdown",
   "id": "819a7577-1c4f-4ca8-8ad5-97cb3434fd29",
   "metadata": {},
   "source": [
    "##### Be careful when copying arrays!!!"
   ]
  },
  {
   "cell_type": "code",
   "execution_count": 100,
   "id": "1928c2db-77c7-48ef-8d62-7b390312622d",
   "metadata": {},
   "outputs": [
    {
     "name": "stdout",
     "output_type": "stream",
     "text": [
      "[1 2 3]\n",
      "[100   2   3]\n"
     ]
    }
   ],
   "source": [
    "a = np.array([1, 2, 3])\n",
    "b = a.copy()\n",
    "b[0] = 100\n",
    "b\n",
    "a\n",
    "print(a)\n",
    "print(b)"
   ]
  },
  {
   "cell_type": "markdown",
   "id": "161501c7-1097-43de-9067-2dde0b0d76dc",
   "metadata": {},
   "source": [
    "### Mathematics"
   ]
  },
  {
   "cell_type": "code",
   "execution_count": 101,
   "id": "1801eb06-da10-4902-bffe-9c571f8a75ab",
   "metadata": {},
   "outputs": [
    {
     "name": "stdout",
     "output_type": "stream",
     "text": [
      "[1 2 3 4]\n"
     ]
    }
   ],
   "source": [
    "a = np.array([1, 2, 3, 4])\n",
    "print(a)"
   ]
  },
  {
   "cell_type": "code",
   "execution_count": 102,
   "id": "6d44eae5-86d3-45b4-8930-494f2f002a4d",
   "metadata": {},
   "outputs": [
    {
     "data": {
      "text/plain": [
       "array([3, 4, 5, 6])"
      ]
     },
     "execution_count": 102,
     "metadata": {},
     "output_type": "execute_result"
    }
   ],
   "source": [
    "a + 2"
   ]
  },
  {
   "cell_type": "code",
   "execution_count": 103,
   "id": "7c68257c-346a-48a5-81ad-75b31a182d34",
   "metadata": {},
   "outputs": [
    {
     "data": {
      "text/plain": [
       "array([-1,  0,  1,  2])"
      ]
     },
     "execution_count": 103,
     "metadata": {},
     "output_type": "execute_result"
    }
   ],
   "source": [
    "a - 2"
   ]
  },
  {
   "cell_type": "code",
   "execution_count": 104,
   "id": "e8384756-cd2c-44f7-bb90-01b48a22dacf",
   "metadata": {},
   "outputs": [
    {
     "data": {
      "text/plain": [
       "array([2, 4, 6, 8])"
      ]
     },
     "execution_count": 104,
     "metadata": {},
     "output_type": "execute_result"
    }
   ],
   "source": [
    "a * 2"
   ]
  },
  {
   "cell_type": "code",
   "execution_count": 105,
   "id": "ec96e1ab-a2b2-49af-844c-044d425fb5e0",
   "metadata": {},
   "outputs": [
    {
     "data": {
      "text/plain": [
       "array([0.5, 1. , 1.5, 2. ])"
      ]
     },
     "execution_count": 105,
     "metadata": {},
     "output_type": "execute_result"
    }
   ],
   "source": [
    "a / 2"
   ]
  },
  {
   "cell_type": "code",
   "execution_count": 107,
   "id": "09d0c61e-ff37-4e20-8407-bc0adbc77f32",
   "metadata": {},
   "outputs": [
    {
     "data": {
      "text/plain": [
       "array([5, 6, 7, 8])"
      ]
     },
     "execution_count": 107,
     "metadata": {},
     "output_type": "execute_result"
    }
   ],
   "source": [
    "a += 2\n",
    "a"
   ]
  },
  {
   "cell_type": "code",
   "execution_count": 108,
   "id": "9c93e09c-9464-453a-9a11-b343560875f8",
   "metadata": {},
   "outputs": [
    {
     "data": {
      "text/plain": [
       "array([6, 6, 8, 8])"
      ]
     },
     "execution_count": 108,
     "metadata": {},
     "output_type": "execute_result"
    }
   ],
   "source": [
    "b = np.array([1, 0, 1, 0])\n",
    "a + b"
   ]
  },
  {
   "cell_type": "code",
   "execution_count": 109,
   "id": "e4f9f7c1-2867-4625-ad4a-3d4b02ee84d1",
   "metadata": {},
   "outputs": [
    {
     "data": {
      "text/plain": [
       "array([25, 36, 49, 64])"
      ]
     },
     "execution_count": 109,
     "metadata": {},
     "output_type": "execute_result"
    }
   ],
   "source": [
    "a ** 2"
   ]
  },
  {
   "cell_type": "code",
   "execution_count": 111,
   "id": "5ae8af0b-412d-41b3-a31c-b98c1e491041",
   "metadata": {},
   "outputs": [
    {
     "data": {
      "text/plain": [
       "array([ 0.28366219,  0.96017029,  0.75390225, -0.14550003])"
      ]
     },
     "execution_count": 111,
     "metadata": {},
     "output_type": "execute_result"
    }
   ],
   "source": [
    "# Take the sin of all values\n",
    "np.cos(a)"
   ]
  },
  {
   "cell_type": "markdown",
   "id": "c3f1e943-7cdb-42a7-a9d4-ea33f8adcde7",
   "metadata": {},
   "source": [
    "##### Linear algebra"
   ]
  },
  {
   "cell_type": "code",
   "execution_count": 113,
   "id": "0df197fe-ed56-44b9-996d-9137e3620c26",
   "metadata": {},
   "outputs": [
    {
     "name": "stdout",
     "output_type": "stream",
     "text": [
      "[[1. 1. 1.]\n",
      " [1. 1. 1.]]\n",
      "[[2 2]\n",
      " [2 2]\n",
      " [2 2]]\n"
     ]
    },
    {
     "data": {
      "text/plain": [
       "array([[6., 6.],\n",
       "       [6., 6.]])"
      ]
     },
     "execution_count": 113,
     "metadata": {},
     "output_type": "execute_result"
    }
   ],
   "source": [
    "a = np.ones((2, 3))\n",
    "print(a)\n",
    "b = np.full((3, 2), 2)\n",
    "print(b)\n",
    "\n",
    "np.matmul(a, b)"
   ]
  },
  {
   "cell_type": "code",
   "execution_count": 114,
   "id": "38125256-29df-4d87-8020-06303c805049",
   "metadata": {},
   "outputs": [
    {
     "data": {
      "text/plain": [
       "1.0"
      ]
     },
     "execution_count": 114,
     "metadata": {},
     "output_type": "execute_result"
    }
   ],
   "source": [
    "# Find the determinant\n",
    "c = np.identity(3)\n",
    "np.linalg.det(c)"
   ]
  },
  {
   "cell_type": "markdown",
   "id": "7978a27d-b535-4a08-b7ba-3bc4efd9de07",
   "metadata": {},
   "source": [
    "##### Statistics"
   ]
  },
  {
   "cell_type": "code",
   "execution_count": 116,
   "id": "4dcef9f3-68fb-4efb-81ca-90fc2e901c92",
   "metadata": {},
   "outputs": [
    {
     "data": {
      "text/plain": [
       "array([[1, 2, 3],\n",
       "       [4, 5, 6]])"
      ]
     },
     "execution_count": 116,
     "metadata": {},
     "output_type": "execute_result"
    }
   ],
   "source": [
    "stats = np.array([[1, 2, 3], [4, 5, 6]])\n",
    "stats"
   ]
  },
  {
   "cell_type": "code",
   "execution_count": 117,
   "id": "60e16ae1-f53f-49ef-8f83-4d2b6f66c87a",
   "metadata": {},
   "outputs": [
    {
     "data": {
      "text/plain": [
       "1"
      ]
     },
     "execution_count": 117,
     "metadata": {},
     "output_type": "execute_result"
    }
   ],
   "source": [
    "np.min(stats)"
   ]
  },
  {
   "cell_type": "code",
   "execution_count": 120,
   "id": "f834547b-2e42-4fe4-9114-41b8cae54269",
   "metadata": {},
   "outputs": [
    {
     "data": {
      "text/plain": [
       "array([3, 6])"
      ]
     },
     "execution_count": 120,
     "metadata": {},
     "output_type": "execute_result"
    }
   ],
   "source": [
    "np.max(stats, axis=1)"
   ]
  },
  {
   "cell_type": "code",
   "execution_count": 122,
   "id": "46cb214e-35b6-4be8-9ca9-9e01cd9c6339",
   "metadata": {},
   "outputs": [
    {
     "data": {
      "text/plain": [
       "array([5, 7, 9])"
      ]
     },
     "execution_count": 122,
     "metadata": {},
     "output_type": "execute_result"
    }
   ],
   "source": [
    "np.sum(stats, axis=0)"
   ]
  },
  {
   "cell_type": "markdown",
   "id": "b3e74052-7fd0-4f8e-bbf5-9fb4eb1c0aaf",
   "metadata": {},
   "source": [
    "### Reorganizing Arrays"
   ]
  },
  {
   "cell_type": "code",
   "execution_count": 135,
   "id": "e9803946-cd7c-43d9-bb56-d0f4f33719ee",
   "metadata": {},
   "outputs": [
    {
     "name": "stdout",
     "output_type": "stream",
     "text": [
      "[[1 2 3 4]\n",
      " [5 6 7 8]]\n",
      "[[1 2]\n",
      " [3 4]\n",
      " [5 6]\n",
      " [7 8]]\n"
     ]
    }
   ],
   "source": [
    "before = np.array([[1, 2, 3, 4], [5, 6, 7, 8]])\n",
    "print(before)\n",
    "\n",
    "after = before.reshape((4, 2))\n",
    "print(after)"
   ]
  },
  {
   "cell_type": "code",
   "execution_count": 140,
   "id": "91ac865c-0ca4-46f2-bbfa-2e49acc729a8",
   "metadata": {},
   "outputs": [
    {
     "data": {
      "text/plain": [
       "array([[1, 2, 3, 4],\n",
       "       [5, 6, 7, 8],\n",
       "       [1, 2, 3, 4],\n",
       "       [5, 6, 7, 8]])"
      ]
     },
     "execution_count": 140,
     "metadata": {},
     "output_type": "execute_result"
    }
   ],
   "source": [
    "# Vertically stacking vectors\n",
    "# Vertical stack is denoted by \"vstack\"\n",
    "v1 = np.array([1, 2, 3, 4])\n",
    "v2 = np.array([5, 6, 7, 8])\n",
    "\n",
    "np.vstack([v1, v2, v1, v2])"
   ]
  },
  {
   "cell_type": "code",
   "execution_count": 143,
   "id": "4bd2de5c-2a52-4dcd-8819-330df8638a9c",
   "metadata": {},
   "outputs": [
    {
     "data": {
      "text/plain": [
       "array([[1., 1., 1., 1., 0., 0.],\n",
       "       [1., 1., 1., 1., 0., 0.]])"
      ]
     },
     "execution_count": 143,
     "metadata": {},
     "output_type": "execute_result"
    }
   ],
   "source": [
    "# Horizontally stacking vectors\n",
    "# Horizontal stack is denoted by \"hstack\"\n",
    "h1 = np.ones((2, 4))\n",
    "h2 = np.zeros((2, 2))\n",
    "\n",
    "np.hstack([h1, h2])"
   ]
  },
  {
   "cell_type": "markdown",
   "id": "2c51f8e4-81df-44a3-a623-bafcb329e27e",
   "metadata": {},
   "source": [
    "### Miscellaneous"
   ]
  },
  {
   "cell_type": "markdown",
   "id": "413e28d4-d0f0-448e-ae5d-c17a1d05d7f2",
   "metadata": {},
   "source": [
    "##### Load data from file"
   ]
  },
  {
   "cell_type": "code",
   "execution_count": 157,
   "id": "849771d5-dba8-42ca-a649-c6df87305fbe",
   "metadata": {},
   "outputs": [
    {
     "data": {
      "text/plain": [
       "array([[     1,     13,    200,     11,    198,     76,     54,      3,\n",
       "             2,     52,    765,     14,     74,     23,     96,     69,\n",
       "           420,     21],\n",
       "       [     2,     26,    400,     22,    396,    152,    108,      6,\n",
       "             4,    104,   1530,     28,    148,     46,    192,    138,\n",
       "           840,     42],\n",
       "       [     1,    169,  40000,    121,  39204,   5776,   2916,      9,\n",
       "             4,   2704, 585225,    196,   5476,    529,   9216,   4761,\n",
       "        176400,    441]], dtype=int32)"
      ]
     },
     "execution_count": 157,
     "metadata": {},
     "output_type": "execute_result"
    }
   ],
   "source": [
    "filedata = np.genfromtxt('data.txt', delimiter=',')\n",
    "filedata=filedata.astype('int32')\n",
    "filedata"
   ]
  },
  {
   "cell_type": "markdown",
   "id": "edd0e894-52ba-426f-a500-f2360d105dd8",
   "metadata": {},
   "source": [
    "##### Advanced Indexing"
   ]
  },
  {
   "cell_type": "code",
   "execution_count": 162,
   "id": "f3d0283a-acdb-468a-8510-66e4af45dbcb",
   "metadata": {},
   "outputs": [
    {
     "data": {
      "text/plain": [
       "array([  1530,  40000,  39204,   5776,   2916,   2704, 585225,   5476,\n",
       "         9216,   4761, 176400], dtype=int32)"
      ]
     },
     "execution_count": 162,
     "metadata": {},
     "output_type": "execute_result"
    }
   ],
   "source": [
    "filedata[filedata > 900]"
   ]
  },
  {
   "cell_type": "code",
   "execution_count": 168,
   "id": "c6a98c69-059d-4129-b267-46b8d01739e0",
   "metadata": {},
   "outputs": [
    {
     "data": {
      "text/plain": [
       "array([2, 3, 9])"
      ]
     },
     "execution_count": 168,
     "metadata": {},
     "output_type": "execute_result"
    }
   ],
   "source": [
    "# #  You can index with a list in NumPy\n",
    "a = np.array([1, 2, 3, 4, 5, 6, 7, 8, 9])\n",
    "a[[1,2,8]]"
   ]
  },
  {
   "cell_type": "code",
   "execution_count": 173,
   "id": "614a15de-1787-433b-a86c-988d6a8dbaa3",
   "metadata": {},
   "outputs": [
    {
     "data": {
      "text/plain": [
       "array([False, False, False, False, False, False, False, False, False,\n",
       "       False,  True, False, False, False, False, False, False, False])"
      ]
     },
     "execution_count": 173,
     "metadata": {},
     "output_type": "execute_result"
    }
   ],
   "source": [
    "np.all(filedata > 500, axis=0)"
   ]
  },
  {
   "cell_type": "code",
   "execution_count": 176,
   "id": "0c25e9e0-6cef-466e-b88a-154d730433a8",
   "metadata": {},
   "outputs": [
    {
     "data": {
      "text/plain": [
       "array([[ True,  True,  True,  True,  True, False, False,  True,  True,\n",
       "        False,  True,  True, False,  True, False, False,  True,  True],\n",
       "       [ True,  True,  True,  True,  True,  True,  True,  True,  True,\n",
       "         True,  True,  True,  True,  True,  True,  True,  True,  True],\n",
       "       [ True,  True,  True,  True,  True,  True,  True,  True,  True,\n",
       "         True,  True,  True,  True,  True,  True,  True,  True,  True]])"
      ]
     },
     "execution_count": 176,
     "metadata": {},
     "output_type": "execute_result"
    }
   ],
   "source": [
    "(~((filedata > 50 ) & (filedata < 100)))\n",
    "# ~ is not"
   ]
  },
  {
   "cell_type": "code",
   "execution_count": 181,
   "id": "6baeaacb-7996-4f00-ba34-6e753420beda",
   "metadata": {},
   "outputs": [
    {
     "data": {
      "text/plain": [
       "array([[1, 2, 3],\n",
       "       [4, 5, 6]])"
      ]
     },
     "execution_count": 181,
     "metadata": {},
     "output_type": "execute_result"
    }
   ],
   "source": [
    "array = np.array([[1, 2, 3], [4, 5, 6]])\n",
    "array"
   ]
  },
  {
   "cell_type": "code",
   "execution_count": 184,
   "id": "a066cbf7-ce05-4324-9b4f-3fa821bb3c84",
   "metadata": {},
   "outputs": [
    {
     "name": "stdout",
     "output_type": "stream",
     "text": [
      "[ 6 15]\n"
     ]
    }
   ],
   "source": [
    "print(array.sum(axis=1))      # Sum along rows\n"
   ]
  },
  {
   "cell_type": "code",
   "execution_count": 188,
   "id": "0f5e779e-211f-4035-b61d-d8d333c66312",
   "metadata": {},
   "outputs": [
    {
     "name": "stdout",
     "output_type": "stream",
     "text": [
      "[[2 2 4]\n",
      " [5 5 7]]\n"
     ]
    }
   ],
   "source": [
    "array = np.array([[1, 2, 3], [4, 5, 6]])\n",
    "\n",
    "\n",
    "vector = np.array([1, 0, 1])\n",
    "print(array + vector)"
   ]
  },
  {
   "cell_type": "code",
   "execution_count": 189,
   "id": "945fff88-41aa-4d48-9918-1e0376d556dd",
   "metadata": {},
   "outputs": [
    {
     "name": "stdout",
     "output_type": "stream",
     "text": [
      "-2.0000000000000004\n"
     ]
    }
   ],
   "source": [
    "from numpy.linalg import inv, det\n",
    "\n",
    "matrix = np.array([[1, 2], [3, 4]])\n",
    "   # Inverse\n",
    "print(det(matrix)) "
   ]
  },
  {
   "cell_type": "code",
   "execution_count": 190,
   "id": "a3c04669-9177-42c1-9771-76baddbc078f",
   "metadata": {},
   "outputs": [
    {
     "name": "stdout",
     "output_type": "stream",
     "text": [
      "[[0.39700424 0.51386726 0.05583505]\n",
      " [0.8470738  0.25536565 0.10715332]]\n"
     ]
    }
   ],
   "source": [
    "rand_array = np.random.rand(2, 3)  # Uniformly distributed random numbers\n",
    "print(rand_array)"
   ]
  },
  {
   "cell_type": "code",
   "execution_count": 191,
   "id": "a1c6899b-9dcb-4196-86c9-268e4a8b4014",
   "metadata": {},
   "outputs": [
    {
     "name": "stdout",
     "output_type": "stream",
     "text": [
      "[[ 0.46854838 -0.34021998  0.71346749]\n",
      " [-0.5306051  -1.86723821 -1.29167648]]\n"
     ]
    }
   ],
   "source": [
    "randn_array = np.random.randn(2, 3)  # Normally distributed random numbers\n",
    "print(randn_array)"
   ]
  },
  {
   "cell_type": "code",
   "execution_count": 194,
   "id": "65eac8d0-dc22-4e97-9c01-3f05362739da",
   "metadata": {},
   "outputs": [
    {
     "name": "stdout",
     "output_type": "stream",
     "text": [
      "[4 5]\n"
     ]
    }
   ],
   "source": [
    "array = np.array([1, 2, 3, 4, 5])\n",
    "bool_index = array > 3\n",
    "print(array[bool_index])  # Elements greater than 3\n"
   ]
  },
  {
   "cell_type": "code",
   "execution_count": 195,
   "id": "8123ef4b-06c4-4fbb-98b7-a70246e35e85",
   "metadata": {},
   "outputs": [
    {
     "name": "stdout",
     "output_type": "stream",
     "text": [
      "[20 40 50]\n"
     ]
    }
   ],
   "source": [
    "array = np.array([10, 20, 30, 40, 50])\n",
    "indices = [1, 3, 4]\n",
    "print(array[indices])  # Elements at positions 1, 3, and 4"
   ]
  },
  {
   "cell_type": "code",
   "execution_count": 197,
   "id": "15c8b01b-d029-4da4-9c5c-7c22922f4c64",
   "metadata": {},
   "outputs": [
    {
     "name": "stdout",
     "output_type": "stream",
     "text": [
      "[(1, 'Alice', 25. ) (2, 'Bob', 45.5)]\n",
      "['Alice' 'Bob']\n"
     ]
    }
   ],
   "source": [
    "data = np.array([(1, 'Alice', 25.0), (2, 'Bob', 45.5)], dtype=[('id', 'i4'), ('name', 'U10'), ('age', 'f4')])\n",
    "print(data)\n",
    "print(data['name'])  # Access by field name"
   ]
  },
  {
   "cell_type": "code",
   "execution_count": 198,
   "id": "39255799-b598-4923-8ca4-47f2612ec9ec",
   "metadata": {},
   "outputs": [
    {
     "name": "stdout",
     "output_type": "stream",
     "text": [
      "[[2 2 4]\n",
      " [5 5 7]]\n"
     ]
    }
   ],
   "source": [
    "array1 = np.array([[1, 2, 3], [4, 5, 6]])\n",
    "array2 = np.array([1, 0, 1])\n",
    "print(array1 + array2)  # Broadcasting addition"
   ]
  },
  {
   "cell_type": "code",
   "execution_count": 199,
   "id": "2ccced8e-45d2-40c6-b02e-bd5aa32bf4df",
   "metadata": {},
   "outputs": [
    {
     "name": "stdout",
     "output_type": "stream",
     "text": [
      "[1 2 3]\n",
      "[4 5 6]\n",
      "1\n",
      "2\n",
      "3\n",
      "4\n",
      "5\n",
      "6\n"
     ]
    }
   ],
   "source": [
    "array = np.array([[1, 2, 3], [4, 5, 6]])\n",
    "\n",
    "for row in array:\n",
    "    print(row)\n",
    "\n",
    "for element in array.flat:\n",
    "    print(element)"
   ]
  },
  {
   "cell_type": "code",
   "execution_count": 200,
   "id": "12e85c03-7506-43d7-b265-97b6f69ee55e",
   "metadata": {},
   "outputs": [
    {
     "name": "stdout",
     "output_type": "stream",
     "text": [
      "[ 0.84147098  0.90929743  0.14112001 -0.7568025 ]\n"
     ]
    }
   ],
   "source": [
    "array = np.array([1, 2, 3, 4])\n",
    "print(np.sin(array))  # Apply sine function element-wise"
   ]
  },
  {
   "cell_type": "code",
   "execution_count": 201,
   "id": "798766fc-d23e-40d4-a4f3-42db95d867f8",
   "metadata": {},
   "outputs": [
    {
     "name": "stdout",
     "output_type": "stream",
     "text": [
      "Python list time: 0.2669990062713623\n"
     ]
    }
   ],
   "source": [
    "import time\n",
    "\n",
    "# Using Python list\n",
    "python_list = list(range(1000000))\n",
    "start_time = time.time()\n",
    "python_list = [x * 2 for x in python_list]\n",
    "print(\"Python list time:\", time.time() - start_time)"
   ]
  },
  {
   "cell_type": "code",
   "execution_count": 203,
   "id": "5f879a1c-04c0-4eeb-939a-41294626d44b",
   "metadata": {},
   "outputs": [
    {
     "name": "stdout",
     "output_type": "stream",
     "text": [
      "NumPy array time: 0.010727882385253906\n"
     ]
    }
   ],
   "source": [
    "# Using NumPy array\n",
    "numpy_array = np.arange(1000000)\n",
    "start_time = time.time()\n",
    "numpy_array = numpy_array * 2\n",
    "print(\"NumPy array time:\", time.time() - start_time)"
   ]
  },
  {
   "cell_type": "code",
   "execution_count": 204,
   "id": "fb050c6b-1f5e-495a-8404-0fdd7d70647f",
   "metadata": {},
   "outputs": [
    {
     "name": "stdout",
     "output_type": "stream",
     "text": [
      "  C_CONTIGUOUS : True\n",
      "  F_CONTIGUOUS : False\n",
      "  OWNDATA : True\n",
      "  WRITEABLE : True\n",
      "  ALIGNED : True\n",
      "  WRITEBACKIFCOPY : False\n",
      "\n",
      "  C_CONTIGUOUS : False\n",
      "  F_CONTIGUOUS : True\n",
      "  OWNDATA : True\n",
      "  WRITEABLE : True\n",
      "  ALIGNED : True\n",
      "  WRITEBACKIFCOPY : False\n",
      "\n"
     ]
    }
   ],
   "source": [
    "array_c = np.array([[1, 2, 3], [4, 5, 6]], order='C')\n",
    "array_f = np.array([[1, 2, 3], [4, 5, 6]], order='F')\n",
    "print(array_c.flags)\n",
    "print(array_f.flags)"
   ]
  },
  {
   "cell_type": "code",
   "execution_count": 206,
   "id": "65821c50-ace3-4520-89cd-cca83f236bcc",
   "metadata": {},
   "outputs": [
    {
     "name": "stdout",
     "output_type": "stream",
     "text": [
      "[False False  True False False]\n",
      "3.0\n"
     ]
    }
   ],
   "source": [
    "array = np.array([1, 2, np.nan, 4, 5])\n",
    "print(np.isnan(array))  # Check for NaNs\n",
    "print(np.nanmean(array))  # Compute mean ignoring NaNs"
   ]
  },
  {
   "cell_type": "code",
   "execution_count": null,
   "id": "b124d2f2-c1eb-472c-92f0-f1e9f61ed262",
   "metadata": {},
   "outputs": [],
   "source": []
  }
 ],
 "metadata": {
  "kernelspec": {
   "display_name": "Python 3 (ipykernel)",
   "language": "python",
   "name": "python3"
  },
  "language_info": {
   "codemirror_mode": {
    "name": "ipython",
    "version": 3
   },
   "file_extension": ".py",
   "mimetype": "text/x-python",
   "name": "python",
   "nbconvert_exporter": "python",
   "pygments_lexer": "ipython3",
   "version": "3.11.7"
  }
 },
 "nbformat": 4,
 "nbformat_minor": 5
}
